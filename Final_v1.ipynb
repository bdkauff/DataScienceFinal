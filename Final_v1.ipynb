{
 "metadata": {
  "name": "Final_v1"
 },
 "nbformat": 3,
 "nbformat_minor": 0,
 "worksheets": [
  {
   "cells": [
    {
     "cell_type": "markdown",
     "metadata": {},
     "source": [
      "<script type=\"text/javascript\">\n",
      "    setInterval ( \"IPython.notebook.save_notebook()\", 2*60*1000 );\n",
      "</script>\n"
     ]
    },
    {
     "cell_type": "code",
     "collapsed": false,
     "input": [
      "import json\n",
      "import numpy\n",
      "import scipy\n",
      "import re\n"
     ],
     "language": "python",
     "metadata": {},
     "outputs": [],
     "prompt_number": 1260
    },
    {
     "cell_type": "code",
     "collapsed": false,
     "input": [
      "json_data = open('Data/allDataClean.json')\n",
      "data = json.load(json_data)"
     ],
     "language": "python",
     "metadata": {},
     "outputs": [],
     "prompt_number": 1261
    },
    {
     "cell_type": "code",
     "collapsed": false,
     "input": [
      "sample_data = data['testSample']\n",
      "print sample_data[0:1]\n",
      "type(sample_data)"
     ],
     "language": "python",
     "metadata": {},
     "outputs": [
      {
       "output_type": "stream",
       "stream": "stdout",
       "text": [
        "[{u'What': [u'Metal', u'Vessels', u'Gold', u'Vases', u'Enamels', u'Pearl', u'Crystal', u'Quartz crystal', u'Amethyst'], u'Dimensions': [u'Overall 19 7/16 x 13 x 9 1/4 in. (49.4 x 33 x 23.5 cm); 352 oz. 18 dwt. (10977 g)', u'Body H. 18 7/8 in. (47.9 cm)', u'Cover 4 1/4 x 4 13/16 in. (10.8 x 12.2 cm); 19 oz. 6 dwt. (600.1 g)'], u'MetPublications': u'Search for related Met publications', u'image': u'http://images.metmuseum.org/CRDImages/ad/original/DP162517.jpg', u'Provenance': [u'American Cotton Oil Company, until ca. 1894', u'Edward Dean Adams, New York, by 1895\\u20131904.'], u'When': u'A.D. 1800-1900', u'id': 10000036, u'Medium': u'Gold, amethysts, spessartites, tourmalines, fresh water pearls, quartzes, rock crystal, and enamel', u'Who': [u'Tiffany & Co.', u'Paulding Farnham'], u'gallery-id': 706, u'_links': {u'self': {u'href': u'http://scrapi.org/object/10000036'}}, u'Date': u'1893\\u201395', u'related-artworks': [10005749, 10009917, 10005054], u'Manufacturer': u'Manufactured by Tiffany & Co. (1837\\u2013present)', u'Accession Number': u'04.1a-c', u'Where': [u'North and Central America', u'United States', u'New York', u'New York City'], u'Credit Line': u'Gift of Edward D. Adams, 1904', u'Classification': u'Metal', u'Culture': u'American', u'In the Museum': u'American Decorative Arts', u'Heilbrunn Timeline of Art History': [u'Nineteenth\\u2013Century American Silver', u'The United States and Canada, 1800\\u20131900 A.D.'], u'Geography': u'Mid-Atlantic, New York, New York, United States'}]\n"
       ]
      },
      {
       "output_type": "pyout",
       "prompt_number": 1262,
       "text": [
        "list"
       ]
      }
     ],
     "prompt_number": 1262
    },
    {
     "cell_type": "code",
     "collapsed": false,
     "input": [
      "africa_count = 0\n",
      "europe_count = 0\n",
      "SA_count = 0\n",
      "NA_count = 0\n",
      "asia_count = 0\n",
      "O_count = 0\n",
      "\n",
      "\n",
      "for artwork in sample_data:\n",
      "    #print artwork\n",
      "    if 'Where' in artwork:\n",
      "        where = artwork['Where'][0].replace(\"-\",\"\")\n",
      "        #print where\n",
      "        if where == 'Africa':\n",
      "            africa_count+=1\n",
      "        elif where == 'Europe':\n",
      "            europe_count+=1\n",
      "        elif where == 'South America':\n",
      "            SA_count+=1\n",
      "        elif where == 'North and Central America':\n",
      "            NA_count+=1            \n",
      "        elif where == 'Asia':\n",
      "            asia_count+=1 \n",
      "        elif where == 'Oceania':\n",
      "            O_count+=1\n",
      "western_count = NA_count + europe_count \n",
      "#print africa_count, europe_count, SA_count, NA_count\n",
      "where_counts = [africa_count,europe_count,SA_count,NA_count,asia_count,O_count,western_count]\n",
      "#where_counts = {'africa':africa_count,'europe':europe_count,'South America':SA_count,'North and Central America':NA_count,'Asia':asia_count,'Roman Empire':RA_count,'Oceania':O_count}\n",
      "print where_counts #this inclues\n",
      "print sum(where_counts)-5710 #make sure total adds up to numer of records. Its off by a little(?)\n",
      "print western_count / float((sum(where_counts)-western_count))"
     ],
     "language": "python",
     "metadata": {},
     "outputs": [
      {
       "output_type": "stream",
       "stream": "stdout",
       "text": [
        "[805, 3620, 111, 2090, 1622, 37, 5710]\n",
        "8285\n",
        "0.689197344599\n"
       ]
      }
     ],
     "prompt_number": 1267
    },
    {
     "cell_type": "code",
     "collapsed": false,
     "input": [
      "n = len(where_counts)\n",
      "#print array\n",
      "ind = numpy.arange(n)\n",
      "fig,ax = plt.subplots()\n",
      "ax.set_ylabel('Number of Artworks')\n",
      "ax.set_xticklabels( ('Africa', 'Europe', 'South America', 'North and Central America', 'Asia', 'Oceiania', '\"Western\"') )\n",
      "fig.autofmt_xdate()\n",
      "plt.bar(ind, where_counts, .75, color='white')\n",
      "#plt.savefig(\"where_plot.eps\", format=\"eps\")"
     ],
     "language": "python",
     "metadata": {},
     "outputs": [
      {
       "output_type": "pyout",
       "prompt_number": 1264,
       "text": [
        "<Container object of 7 artists>"
       ]
      },
      {
       "output_type": "display_data",
       "png": "[encoded data removed]"
      }
     ],
     "prompt_number": 1264
    },
    {
     "cell_type": "markdown",
     "metadata": {},
     "source": [
      "We can see that the distribution of artworks at the Met skews heavily European and \"Western\" (Europe, North America and Roman Empire combined).\n",
      "\n",
      "But why?"
     ]
    },
    {
     "cell_type": "code",
     "collapsed": false,
     "input": [
      "provenances = list()\n",
      "totalLength = 0\n",
      "for artwork in sample_data:\n",
      "    #print artwork\n",
      "    if 'Provenance' in artwork.keys():\n",
      "        provenances.append(artwork['Provenance'][0].replace(\",\",\"\"))\n",
      "        totalLength+=1\n",
      "print 'All records with a Provenance field: ',totalLength\n",
      "\n",
      "ny_prov_count = 0\n",
      "uk_prov_count = 0\n",
      "met_prov_count = 0\n",
      "germany_prov_count = 0\n",
      "france_prov_count = 0\n",
      "baltimore_prov_count = 0\n",
      "iran_prov_count = 0\n",
      "penn_prov_count = 0\n",
      "\n",
      "for provenance in provenances:\n",
      "    if 'New York' in provenance:\n",
      "        ny_prov_count+=1  \n",
      "    if 'ny' in provenance:\n",
      "        ny_prov_count+=1 \n",
      "    if 'Pennsylvania' in provenance:\n",
      "        penn_prov_count+=1  \n",
      "    if 'London' in provenance:\n",
      "        uk_prov_count+=1\n",
      "    if 'Metropolitan Museum' in provenance:\n",
      "        met_prov_count+=1\n",
      "    if 'Berlin' in provenance:\n",
      "        germany_prov_count+=1\n",
      "    if 'Germany' in provenance:\n",
      "        germany_prov_count+=1        \n",
      "    if 'Paris' in provenance:\n",
      "        france_prov_count+=1\n",
      "    if 'France' in provenance:\n",
      "        france_prov_count+=1\n",
      "\n",
      "print 'New York: ', ny_prov_count\n",
      "print 'Pennsylvania: ',penn_prov_count\n",
      "print 'Unite: ',uk_prov_count\n",
      "print 'Met: ',met_prov_count\n",
      "print 'Germany: ',germany_prov_count\n",
      "print 'France: ',france_prov_count\n",
      "print 'Iran: ',iran_prov_count\n",
      "\n",
      "\n",
      "the_west_prov_count = ny_prov_count + penn_prov_count + uk_prov_count + met_prov_count + germany_prov_count + france_prov_count\n",
      "from fractions import Fraction\n",
      "print 'Fraction of provenances attributed to Western cities',(the_west_prov_count / float(totalLength))"
     ],
     "language": "python",
     "metadata": {},
     "outputs": [
      {
       "output_type": "stream",
       "stream": "stdout",
       "text": [
        "All records with a Provenance field:  4822\n",
        "New York:  799\n",
        "Pennsylvania:  28\n",
        "Unite:  163\n",
        "Met:  257\n",
        "Germany:  101\n",
        "France:  154\n",
        "Iran:  0\n",
        "Fraction of provenances attributed to Western cities 0.31148900871\n"
       ]
      }
     ],
     "prompt_number": 1246
    },
    {
     "cell_type": "code",
     "collapsed": false,
     "input": [
      "import collections\n",
      "wordlist = []\n",
      "wordlelist = collections.Counter(provenances).most_common(16)\n",
      "print wordlelist\n"
     ],
     "language": "python",
     "metadata": {},
     "outputs": [
      {
       "output_type": "stream",
       "stream": "stdout",
       "text": [
        "[(u'Donor: Jefferson R. Burdick (American 1900\\u20131963)', 339), (u'From Cyprus', 99), (u'Excavated by the Egyptian Expedition of the Metropolitan Museum of Art. Acquired by the Museum in the division of finds.', 92), (u'Friedrich Fischbach  Wiesbaden Germany 1909', 64), (u'Formerly in the collection of the Reverend Chauncey Murch (died 1907). Collected between 1883 and 1906 while Murch was a missionary in Egypt. Collection purchased by the Museum from the Murch family with funds provided by Helen Miller Gould 1910.', 64), (u'Donor: William Brewster', 58), (u'Besseli\\xe8vre', 56), (u'Donor: WPA', 41), (u'Museum excavations 1916\\u201317. Acquired by the Museum in the division of finds 1917.', 40), (u'Kihei Hattori  Tokyo (until 1920)', 37), (u'Donor: Lincoln Kirstein (American 1907\\u20131996)', 35), (u'Georges Hoentschel', 34), (u'Earls of Pembroke (British Wilton House near Salisbury Wiltshire)', 31), (u'Excavated by the Egyptian Expedition of the Metropolitan Museum of Art 1920. Acquired by the Museum in the division of finds 1920.', 30), (u'Irwin Untermyer  New York (until 1964)', 26), (u'Donor: Edward W. C. Arnold', 26)]\n"
       ]
      }
     ],
     "prompt_number": 1247
    },
    {
     "cell_type": "code",
     "collapsed": false,
     "input": [
      "import re\n",
      "pattern = re.compile('\\d\\d\\d\\d')\n",
      "matchesList = []\n",
      "for matches in provenances:\n",
      "    match = pattern.findall(matches)\n",
      "    if  match:\n",
      "        matchesList.append(int(match[0]))\n",
      "matchesList.sort()\n",
      "matchesList.remove(2793)\n",
      "print matchesList[0:200]\n",
      "print 'The most common years of attribution of provenance are: '\n",
      "collections.Counter(matchesList).most_common(10)\n"
     ],
     "language": "python",
     "metadata": {},
     "outputs": [
      {
       "output_type": "stream",
       "stream": "stdout",
       "text": [
        "[1171, 1410, 1441, 1445, 1476, 1550, 1568, 1568, 1568, 1568, 1568, 1600, 1618, 1620, 1627, 1634, 1634, 1641, 1649, 1659, 1660, 1660, 1664, 1665, 1665, 1665, 1669, 1670, 1673, 1686, 1691, 1694, 1694, 1694, 1696, 1700, 1703, 1718, 1723, 1723, 1726, 1731, 1735, 1738, 1738, 1745, 1745, 1747, 1748, 1751, 1754, 1755, 1755, 1756, 1757, 1758, 1758, 1761, 1763, 1768, 1769, 1777, 1777, 1783, 1784, 1784, 1784, 1786, 1787, 1788, 1789, 1789, 1789, 1796, 1797, 1797, 1797, 1798, 1800, 1803, 1803, 1803, 1805, 1806, 1806, 1807, 1808, 1809, 1809, 1810, 1811, 1811, 1811, 1812, 1812, 1812, 1815, 1817, 1820, 1820, 1822, 1822, 1822, 1822, 1822, 1822, 1825, 1825, 1825, 1825, 1825, 1827, 1828, 1829, 1830, 1833, 1836, 1837, 1837, 1837, 1837, 1837, 1837, 1837, 1837, 1839, 1839, 1839, 1839, 1839, 1841, 1841, 1842, 1843, 1843, 1843, 1844, 1845, 1846, 1847, 1847, 1848, 1849, 1850, 1850, 1850, 1850, 1850, 1851, 1852, 1852, 1852, 1852, 1852, 1852, 1852, 1852, 1852, 1852, 1852, 1852, 1852, 1852, 1853, 1853, 1856, 1856, 1856, 1858, 1858, 1858, 1859, 1859, 1859, 1859, 1859, 1860, 1860, 1860, 1861, 1861, 1863, 1863, 1863, 1863, 1863, 1863, 1863, 1863, 1863, 1863, 1863, 1863, 1863, 1863, 1863, 1863, 1863, 1863, 1864]\n",
        "The most common years of attribution of provenance are: \n"
       ]
      },
      {
       "output_type": "pyout",
       "prompt_number": 1248,
       "text": [
        "[(1900, 342),\n",
        " (1907, 120),\n",
        " (1909, 105),\n",
        " (1920, 95),\n",
        " (1923, 61),\n",
        " (1938, 55),\n",
        " (1910, 53),\n",
        " (1908, 49),\n",
        " (1916, 46),\n",
        " (1902, 43)]"
       ]
      }
     ],
     "prompt_number": 1248
    },
    {
     "cell_type": "code",
     "collapsed": false,
     "input": [
      "fig,ax = plt.subplots()\n",
      "ax.set_ylabel('Number of Artworks')\n",
      "ax.set_xlabel( 'Year' )\n",
      "fig.autofmt_xdate()\n",
      "plt.hist(matchesList, range=(1800,2012),bins=100)\n",
      "plt.savefig(\"years_plot.eps\", format=\"eps\")\n"
     ],
     "language": "python",
     "metadata": {},
     "outputs": [
      {
       "output_type": "display_data",
       "png": "[encoded data removed]"
      }
     ],
     "prompt_number": 1249
    },
    {
     "cell_type": "code",
     "collapsed": false,
     "input": [
      "plt.plot(matchesList)"
     ],
     "language": "python",
     "metadata": {},
     "outputs": [
      {
       "output_type": "pyout",
       "prompt_number": 1250,
       "text": [
        "[<matplotlib.lines.Line2D at 0x10a5f5490>]"
       ]
      },
      {
       "output_type": "display_data",
       "png": "[encoded data removed]"
      }
     ],
     "prompt_number": 1250
    },
    {
     "cell_type": "code",
     "collapsed": false,
     "input": [
      "listy = None\n",
      "len(listy)"
     ],
     "language": "python",
     "metadata": {},
     "outputs": [
      {
       "ename": "TypeError",
       "evalue": "object of type 'NoneType' has no len()",
       "output_type": "pyerr",
       "traceback": [
        "\u001b[0;31m---------------------------------------------------------------------------\u001b[0m\n\u001b[0;31mTypeError\u001b[0m                                 Traceback (most recent call last)",
        "\u001b[0;32m<ipython-input-1259-34c2eb99fbf2>\u001b[0m in \u001b[0;36m<module>\u001b[0;34m()\u001b[0m\n\u001b[1;32m      1\u001b[0m \u001b[0mlisty\u001b[0m \u001b[0;34m=\u001b[0m \u001b[0mNone\u001b[0m\u001b[0;34m\u001b[0m\u001b[0m\n\u001b[0;32m----> 2\u001b[0;31m \u001b[0mlen\u001b[0m\u001b[0;34m(\u001b[0m\u001b[0mlisty\u001b[0m\u001b[0;34m)\u001b[0m\u001b[0;34m\u001b[0m\u001b[0m\n\u001b[0m",
        "\u001b[0;31mTypeError\u001b[0m: object of type 'NoneType' has no len()"
       ]
      }
     ],
     "prompt_number": 1259
    },
    {
     "cell_type": "code",
     "collapsed": false,
     "input": [],
     "language": "python",
     "metadata": {},
     "outputs": []
    }
   ],
   "metadata": {}
  }
 ]
}